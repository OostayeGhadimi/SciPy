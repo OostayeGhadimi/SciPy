{
 "cells": [
  {
   "cell_type": "markdown",
   "id": "ef41e549-811c-41b6-a63d-af5193d011e2",
   "metadata": {},
   "source": [
    "# Root Finding\n"
   ]
  },
  {
   "cell_type": "markdown",
   "id": "630bded0-f85a-4512-8807-193c9842d97f",
   "metadata": {},
   "source": [
    "## Root Finding with SciPy's `root` Function\n",
    "\n",
    "The `root` function in SciPy provides a flexible interface for finding the roots of a system of nonlinear equations. It employs a variety of algorithms, including hybrid methods combining different techniques for efficient and robust root finding.\n",
    "\n",
    "### Overview\n",
    "\n",
    "- The `root` function is part of the `scipy.optimize` module.\n",
    "- It can find the roots of both scalar and multi-dimensional functions.\n",
    "\n",
    "### Example\n",
    "\n",
    "Let's find the root of the function \\( **f(x) = x^3 - 2x - 5** \\) using SciPy's `root` function."
   ]
  },
  {
   "cell_type": "code",
   "execution_count": 16,
   "id": "c0f45aae-8acc-43cd-9f0c-4b88858dd249",
   "metadata": {},
   "outputs": [
    {
     "name": "stdout",
     "output_type": "stream",
     "text": [
      "Root using scipy.optimize.root: [2.09455148]\n"
     ]
    }
   ],
   "source": [
    "import numpy as np\n",
    "from scipy.optimize import root\n",
    "\n",
    "# Example function: f(x) = x^3 - 2x - 5\n",
    "def func(x):\n",
    "    return x**3 - 2*x - 5\n",
    "\n",
    "# Using scipy.optimize.root\n",
    "root_result = root(func, x0=1)\n",
    "print(\"Root using scipy.optimize.root:\", root_result.x)\n"
   ]
  },
  {
   "cell_type": "markdown",
   "id": "97b187a9-1c64-4da3-8c1f-443fd6237c7b",
   "metadata": {},
   "source": [
    "## Bisection Method\n",
    "\n",
    "The bisection method is a simple but robust numerical technique used to find the roots of a real-valued function. It operates by repeatedly narrowing down the interval in which the root lies until a sufficiently accurate root is found.\n",
    "\n",
    "### Bisection Algorithm\n",
    "\n",
    "1. Start with an interval $[a, b]$ where the function changes sign (i.e., $f(a) \\cdot f(b) < 0$).\n",
    "2. Compute the midpoint $c$ of the interval: $c = \\frac{a + b}{2}$.\n",
    "3. Evaluate the function at $c$: $f(c)$.\n",
    "4. Update the interval:\n",
    "   - If $f(a) \\cdot f(c) < 0$, the root lies in the interval $[a, c]$.\n",
    "   - If $f(c) \\cdot f(b) < 0$, the root lies in the interval $[c, b]$.\n",
    "5. Repeat steps 2-4 until the interval is sufficiently small or the desired accuracy is achieved.\n",
    "\n",
    "### Example\n",
    "\n",
    "Let's find the root of the function $f(x) = x^3 - 2x - 5$ using the b using Bisection method:\", root)\n"
   ]
  },
  {
   "cell_type": "code",
   "execution_count": 15,
   "id": "fa26844f-43e0-4f3b-b9b9-620c780ce826",
   "metadata": {},
   "outputs": [
    {
     "name": "stdout",
     "output_type": "stream",
     "text": [
      "Root using scipy.optimize.bisect: 2.0945514815412025\n"
     ]
    }
   ],
   "source": [
    "import numpy as np\n",
    "from scipy.optimize import bisect\n",
    "\n",
    "# Example function: f(x) = x^3 - 2x - 5\n",
    "def func(x):\n",
    "    return x**3 - 2*x - 5\n",
    "    \n",
    "# Using scipy.optimize.bisect\n",
    "bisect_result = bisect(func, a=1, b=3)\n",
    "print(\"Root using scipy.optimize.bisect:\", bisect_result)"
   ]
  },
  {
   "cell_type": "markdown",
   "id": "1a5b9185-3aa5-47e5-8cb9-34fcd7cfd13a",
   "metadata": {},
   "source": [
    "## Newton-Raphson Method\n",
    "\n",
    "The Newton-Raphson method is an iterative numerical technique used to find the roots of a real-valued function. It utilizes an initial guess to iteratively converge towards the root by computing successive approximations using the function and its derivative.\n",
    "\n",
    "### Newton-Raphson Algorithm\n",
    "\n",
    "1. Start with an initial guess $x_0$.\n",
    "2. Iterate using the formula:\n",
    "   $x_{n+1} = x_n - \\frac{f(x_n)}{f'(x_n)}$\n",
    "3. Continue iterating until convergence criteria are met (e.g., small change in $x$ or small absolute value of $f(x)$).\n",
    "\n",
    "### Example\n",
    "\n",
    "Let's find the root of the function $f(x) = x^3 - 2x - 5$ using the Newton-Rapg Newton-Raphson method:\", root)\n"
   ]
  },
  {
   "cell_type": "code",
   "execution_count": 32,
   "id": "04e7ca9a-01ee-42f4-b465-65878400433e",
   "metadata": {},
   "outputs": [
    {
     "name": "stdout",
     "output_type": "stream",
     "text": [
      "Root using scipy.optimize.newton: 2.0945514815423265\n"
     ]
    }
   ],
   "source": [
    "import numpy as np\n",
    "from scipy.optimize import newton\n",
    "\n",
    "# Example function: f(x) = x^3 - 2x - 5\n",
    "def func(x):\n",
    "    return x**3 - 2*x - 5\n",
    "    \n",
    "    \n",
    "# Using scipy.optimize.newton\n",
    "newton_result = newton(func, x0=1)\n",
    "print(\"Root using scipy.optimize.newton:\", newton_result)"
   ]
  },
  {
   "cell_type": "code",
   "execution_count": 14,
   "id": "1c41ccf4-f445-4b26-b3f2-d277c052239d",
   "metadata": {},
   "outputs": [
    {
     "name": "stdout",
     "output_type": "stream",
     "text": [
      "Root using scipy.optimize.root: [2.09455148]\n",
      "Root using scipy.optimize.bisect: 2.0945514815412025\n",
      "Root using scipy.optimize.newton: 2.0945514815423265\n"
     ]
    }
   ],
   "source": [
    "import numpy as np\n",
    "from scipy.optimize import root, bisect, newton\n",
    "\n",
    "# Example function: f(x) = x^3 - 2x - 5\n",
    "def func(x):\n",
    "    return x**3 - 2*x - 5\n",
    "\n",
    "# Using scipy.optimize.root\n",
    "root_result = root(func, x0=1)\n",
    "print(\"Root using scipy.optimize.root:\", root_result.x)\n",
    "\n",
    "# Using scipy.optimize.bisect\n",
    "bisect_result = bisect(func, a=1, b=3)\n",
    "print(\"Root using scipy.optimize.bisect:\", bisect_result)\n",
    "\n",
    "# Using scipy.optimize.newton\n",
    "newton_result = newton(func, x0=1)\n",
    "print(\"Root using scipy.optimize.newton:\", newton_result)\n"
   ]
  },
  {
   "cell_type": "markdown",
   "id": "718dfa5d-e432-4f57-9931-6e9ff067d333",
   "metadata": {},
   "source": [
    "# Extar Example"
   ]
  },
  {
   "cell_type": "code",
   "execution_count": 19,
   "id": "8dc26995-005b-408a-8105-cb852c6b5d03",
   "metadata": {},
   "outputs": [
    {
     "name": "stdout",
     "output_type": "stream",
     "text": [
      "Roots using scipy.optimize.root: [3. 4.]\n"
     ]
    }
   ],
   "source": [
    "from scipy.optimize import root\n",
    "\n",
    "# Define the system of equations\n",
    "def equations(vars):\n",
    "    x, y = vars\n",
    "    eq1 = x**2 + y**2 - 25\n",
    "    eq2 = x * y - 12\n",
    "    return [eq1, eq2]\n",
    "\n",
    "# Initial guess\n",
    "initial_guess = [1, 1]\n",
    "\n",
    "# Find the roots using scipy.optimize.root\n",
    "root_result = root(equations, initial_guess)\n",
    "\n",
    "print(\"Roots using scipy.optimize.root:\", root_result.x)\n"
   ]
  },
  {
   "cell_type": "code",
   "execution_count": 20,
   "id": "3514b3f7-50ca-4c1b-b4f3-949ee7504a29",
   "metadata": {},
   "outputs": [
    {
     "name": "stdout",
     "output_type": "stream",
     "text": [
      "Roots using scipy.optimize.root: [-0.16576295 -1.3305084   4.02519666  2.32881093  7.16338886]\n"
     ]
    }
   ],
   "source": [
    "from scipy.optimize import root\n",
    "import numpy as np\n",
    "\n",
    "# Define the system of equations\n",
    "def equations(vars):\n",
    "    x1, x2, x3, x4, x5 = vars\n",
    "    eq1 = x1 + x2 + x3 + x4 + x5 - 10\n",
    "    eq2 = x1**2 + x2**2 + x3**2 + x4**2 + x5**2 - 50\n",
    "    eq3 = x1**3 + x2**3 + x3**3 + x4**3 + x5**3 - 300\n",
    "    eq4 = x1**4 + x2**4 + x3**4 + x4**4 + x5**4 - 2500\n",
    "    eq5 = x1**5 + x2**5 + x3**5 + x4**5 + x5**5 - 20000\n",
    "    return [eq1, eq2, eq3, eq4, eq5]\n",
    "\n",
    "# Initial guess\n",
    "initial_guess = [1, 1, 1, 1, 1]\n",
    "\n",
    "# Find the roots using scipy.optimize.root\n",
    "root_result = root(equations, initial_guess)\n",
    "\n",
    "print(\"Roots using scipy.optimize.root:\", root_result.x)"
   ]
  },
  {
   "cell_type": "code",
   "execution_count": 27,
   "id": "152fea1d-b879-4025-b2fb-b277b100b2d2",
   "metadata": {},
   "outputs": [
    {
     "name": "stdout",
     "output_type": "stream",
     "text": [
      "Root using Bisection method: 2.25163620310434\n"
     ]
    }
   ],
   "source": [
    "from scipy.optimize import bisect\n",
    "import numpy as np\n",
    "\n",
    "# Define the function\n",
    "def func(x):\n",
    "    return np.exp(x) - 2*x - 5\n",
    "\n",
    "# Define the interval\n",
    "a = 11\n",
    "b = 2\n",
    "\n",
    "# Find the root using scipy.optimize.bisect\n",
    "root = bisect(func, a, b)\n",
    "\n",
    "print(\"Root using Bisection method:\", root)\n"
   ]
  },
  {
   "cell_type": "code",
   "execution_count": 35,
   "id": "9008ba08-dd28-4a63-9d99-4f872b0f6432",
   "metadata": {},
   "outputs": [
    {
     "name": "stdout",
     "output_type": "stream",
     "text": [
      "Root using Newton's method: 4.0\n"
     ]
    }
   ],
   "source": [
    "from scipy.optimize import newton\n",
    "\n",
    "# Define the function\n",
    "def func(x):\n",
    "    return x**3 - 2*x**2 - 11*x + 12\n",
    "\n",
    "# Define the derivative of the function\n",
    "def func_derivative(x):\n",
    "    return 3*x**2 - 4*x - 11\n",
    "\n",
    "# Initial guess\n",
    "x0 = 4\n",
    "\n",
    "# Find the root using scipy.optimize.newton\n",
    "root = newton(func, x0, fprime=func_derivative)\n",
    "\n",
    "print(\"Root using Newton's method:\", root)\n"
   ]
  }
 ],
 "metadata": {
  "kernelspec": {
   "display_name": "Python 3 (ipykernel)",
   "language": "python",
   "name": "python3"
  },
  "language_info": {
   "codemirror_mode": {
    "name": "ipython",
    "version": 3
   },
   "file_extension": ".py",
   "mimetype": "text/x-python",
   "name": "python",
   "nbconvert_exporter": "python",
   "pygments_lexer": "ipython3",
   "version": "3.11.7"
  }
 },
 "nbformat": 4,
 "nbformat_minor": 5
}
