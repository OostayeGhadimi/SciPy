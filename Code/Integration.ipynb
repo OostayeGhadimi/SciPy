{
 "cells": [
  {
   "cell_type": "markdown",
   "id": "0cfacf09-b6cd-4b1a-8875-49f025449a8a",
   "metadata": {},
   "source": [
    "## Integration (`scipy.integrate`)\n",
    "\n",
    "Integration is a fundamental mathematical operation that finds the area under the curve of a function. SciPy, a Python library for scientific computing, provides comprehensive tools for numerical integration through its `scipy.integrate` sub-module. Let's explore some key functionalities:\n",
    "\n",
    "### 1. General Integration Functions:\n",
    "\n",
    "- `quad(func, a, b)`: Computes the definite integral of a function `func` from `a` to `b`.\n",
    "  \n",
    "- `dblquad(func, a, b, gfun, hfun)`: Computes the double integral of `func(y, x)` over `x` from `a` to `b` and `y` from `gfun(x)` to `hfun(x)`.\n",
    "  \n",
    "- `tplquad(func, a, b, gfun, hfun, qfun, rfun)`: Computes the triple integral of `func(y, x, z)` over `x`, `y`, and `z` within specified limits.\n",
    "\n",
    "### 2. Integration with Infinite Limits:\n",
    "\n",
    "- The `quad` function supports infinite limits of integration by passing `np.inf` or `-np.inf` as arguments for `a` or `b`.\n"
   ]
  },
  {
   "cell_type": "markdown",
   "id": "dccfda7c-8f34-4e28-96a0-50b81babaa32",
   "metadata": {},
   "source": [
    "## `quad` Function: General Purpose Integration\n",
    "\n",
    "The `quad` function in SciPy's `scipy.integrate` module is a general-purpose numerical integration method used to compute definite integrals of one-dimensional functionsst=50)\n"
   ]
  },
  {
   "cell_type": "raw",
   "id": "f4d46b18-02d3-4ad3-bb7d-c69e1499c554",
   "metadata": {},
   "source": [
    "Syntax:\n",
    "\n",
    "quad(func, a, b, args=(), epsabs=1.49e-08)\n"
   ]
  },
  {
   "cell_type": "markdown",
   "id": "eb37dfad-111a-4227-bfbd-95e50ac1bb15",
   "metadata": {},
   "source": [
    "### Parameters:\n",
    "\n",
    "**`func`:** The function to be integrated. This should be a callable function that takes a single argument and returns a float or array_like. It represents the integrand function.\n",
    "  \n",
    "**`a`:** Lower limit of integration. This parameter specifies the lower bound of the integration interval.\n",
    "  \n",
    "**`b`:** Upper limit of integration. This parameter specifies the upper bound of the integration interval.\n",
    "  \n",
    "**`args`:** Additional arguments to pass to the function `func`. This parameter allows you to pass extra arguments to the integrand function, if needed.\n",
    "  \n",
    "  \n",
    "**`epsabs`:** Absolute tolerance for the integral. This parameter specifies the absolute error tolerance for the integral. The integration stops when the estimated absolute error falls below this value.\n"
   ]
  },
  {
   "cell_type": "markdown",
   "id": "9713541a-eb8c-4086-8666-9e2c14d7b5b5",
   "metadata": {},
   "source": [
    "### Example 1: \n",
    "This computes the definite integral of the function $f(x)=x^2$ from $0$ to $1$ using the quad function."
   ]
  },
  {
   "cell_type": "code",
   "execution_count": 41,
   "id": "afdcca4f-334f-4a7d-8383-84f7d3f984d4",
   "metadata": {},
   "outputs": [
    {
     "name": "stdout",
     "output_type": "stream",
     "text": [
      "Result: 0.33333333333333337\n",
      "Error: 3.700743415417189e-15\n"
     ]
    }
   ],
   "source": [
    "from scipy.integrate import quad\n",
    "\n",
    "# Define the function to be integrated\n",
    "def func(x):\n",
    "    return x ** 2\n",
    "\n",
    "# Compute the definite integral of the function from 0 to 1\n",
    "result, error = quad(func, 0, 1)\n",
    "print(\"Result:\", result)\n",
    "print(\"Error:\", error)\n"
   ]
  },
  {
   "cell_type": "markdown",
   "id": "86a6a4c0-b39f-488a-be4e-55e1b12bb189",
   "metadata": {},
   "source": [
    "### Example 2: \n",
    "For example, suppose you wish to integrate a Bessel function $J_{v}(2.5)$ along the interval $[0,4.5]$"
   ]
  },
  {
   "cell_type": "code",
   "execution_count": 8,
   "id": "e607b80d-c7d0-46c5-934c-a60c5e6cdee6",
   "metadata": {},
   "outputs": [
    {
     "data": {
      "text/plain": [
       "(1.1178179380783253, 7.866317182537226e-09)"
      ]
     },
     "execution_count": 8,
     "metadata": {},
     "output_type": "execute_result"
    }
   ],
   "source": [
    "import scipy.integrate as integrate\n",
    "import scipy.special as special\n",
    "from scipy.integrate import quad\n",
    "\n",
    "result = integrate.quad(lambda x: special.jv(2.5,x), 0, 4.5)\n",
    "result"
   ]
  },
  {
   "cell_type": "markdown",
   "id": "c8268a2c-4d3a-4754-aed0-79bfe5308077",
   "metadata": {},
   "source": [
    "# Double Integral in SciPy (`dblquad`)\n",
    "\n",
    "A double integral computes the signed volume under a surface defined by a two-variable function over a region in the plane. SciPy's `scipy.integrate` module offers the `dblquad` function to perform double integration numerically."
   ]
  },
  {
   "cell_type": "markdown",
   "id": "e97ce7f1-a01e-47f5-ba8e-18906ed3138f",
   "metadata": {},
   "source": [
    "**Syntax:**"
   ]
  },
  {
   "cell_type": "raw",
   "id": "22e9d34d-9fba-4744-b00f-c40da9866fb2",
   "metadata": {},
   "source": [
    "dblquad(func, a, b, gfun, hfun, args=(), ...)\n"
   ]
  },
  {
   "cell_type": "markdown",
   "id": "b29d8600-662d-441a-a231-476bd666cc08",
   "metadata": {},
   "source": [
    "**Parameters:**\n",
    "\n",
    "**`func`:** The function to be integrated over the region.\n",
    "\n",
    "**`a, b`:** Lower and upper limits of the outer integral.\n",
    "\n",
    "**`gfun, hfun`:** Functions that define the lower and upper limits of the inner integral as functions of `x`.\n",
    "\n",
    "**`args`:** Additional arguments to pass to the function `func`."
   ]
  },
  {
   "cell_type": "markdown",
   "id": "fe0dc922-e2df-4add-8e9b-2eb1b8d05b80",
   "metadata": {},
   "source": [
    "### **Example Usage:**\n",
    "\n",
    "This code snippet computes the double integral of the function $ f(x,y) = x \\cdot y $  over the region $ 0 \\leq y \\leq x $ and $ 0 \\leq x \\leq 2 $ using the `dblquad` function.\n",
    "\n",
    "$\\iint_{0 \\leq y \\leq x, \\, 0 \\leq x \\leq 2} x \\cdot y  dx  dy $\n"
   ]
  },
  {
   "cell_type": "code",
   "execution_count": 1,
   "id": "1c287ebb-98bd-4278-86c3-85578d572f91",
   "metadata": {},
   "outputs": [
    {
     "name": "stdout",
     "output_type": "stream",
     "text": [
      "Result of the double integral: 2.0\n",
      "Estimated error: 4.412025764622231e-14\n"
     ]
    }
   ],
   "source": [
    "from scipy.integrate import dblquad\n",
    "\n",
    "# Define the function to be integrated\n",
    "def func(y, x):\n",
    "    return x * y\n",
    "\n",
    "# Define the limits of the outer integral\n",
    "a, b = 0, 2\n",
    "\n",
    "# Define the limits of the inner integral as functions of x\n",
    "gfun = lambda x: 0\n",
    "hfun = lambda x: x\n",
    "\n",
    "# Perform the double integral\n",
    "result, error = dblquad(func, a, b, gfun, hfun)\n",
    "\n",
    "print(\"Result of the double integral:\", result)\n",
    "print(\"Estimated error:\", error)\n"
   ]
  },
  {
   "cell_type": "code",
   "execution_count": 3,
   "id": "171cff3c-fd68-4082-b185-6825718c84a9",
   "metadata": {},
   "outputs": [
    {
     "name": "stdout",
     "output_type": "stream",
     "text": [
      "Result of the double integral: 0.010416666666666668\n",
      "Estimated error: 4.101620128472366e-16\n"
     ]
    }
   ],
   "source": [
    "from scipy.integrate import dblquad\n",
    "\n",
    "# Define the function to be integrated\n",
    "def func(y, x):\n",
    "    return x * y\n",
    "\n",
    "# Define the limits of the outer integral\n",
    "a, b = 0, 0.5\n",
    "\n",
    "# Define the limits of the inner integral as functions of x\n",
    "gfun = lambda x: 0\n",
    "hfun = lambda x: 1-2*x\n",
    "\n",
    "# Perform the double integral\n",
    "result, error = dblquad(func, a, b, gfun, hfun)\n",
    "\n",
    "print(\"Result of the double integral:\", result)\n",
    "print(\"Estimated error:\", error)\n"
   ]
  },
  {
   "cell_type": "markdown",
   "id": "897383d2-0405-46d3-98b1-363d56412f06",
   "metadata": {},
   "source": [
    "## **`integrate.nquad`**\n",
    "\n",
    "The `integrate.nquad` function in SciPy allows you to perform integration over multiple variables. It is a more general version of `dblquad` and can handle integrals of multiple dimensions."
   ]
  },
  {
   "cell_type": "markdown",
   "id": "ccff53ac-c485-4424-b245-0e48aea3e38a",
   "metadata": {},
   "source": [
    "**Syntax:**\n"
   ]
  },
  {
   "cell_type": "raw",
   "id": "01815d7a-ec9a-4c41-ad22-2a73bb80ea52",
   "metadata": {},
   "source": [
    "integrate.nquad(func, ranges)\n"
   ]
  },
  {
   "cell_type": "markdown",
   "id": "6c66d285-5c2a-4a62-b347-da6f7f1478ad",
   "metadata": {},
   "source": [
    "**Parameters:**\n",
    "  \n",
    "**`func`:** The function to be integrated.\n",
    "\n",
    "**`ranges`:** A list of tuples specifying the integration limits for each variable."
   ]
  },
  {
   "cell_type": "markdown",
   "id": "f3762e41-b02d-436a-9de0-342f45c98193",
   "metadata": {},
   "source": [
    "### **Example Usage:**"
   ]
  },
  {
   "cell_type": "code",
   "execution_count": 32,
   "id": "6acf692d-d735-49e6-add2-b0b6f9b034ed",
   "metadata": {},
   "outputs": [
    {
     "data": {
      "text/plain": [
       "(0.010416666666666668, 4.101620128472366e-16)"
      ]
     },
     "execution_count": 32,
     "metadata": {},
     "output_type": "execute_result"
    }
   ],
   "source": [
    "from scipy import integrate\n",
    "\n",
    "def f(x, y):\n",
    "    return x*y\n",
    "\n",
    "def bounds_y():\n",
    "    return [0, 0.5]\n",
    "\n",
    "def bounds_x(y):\n",
    "    return [0, 1-2*y]\n",
    "\n",
    "integrate.nquad(f, [bounds_x, bounds_y])"
   ]
  },
  {
   "cell_type": "markdown",
   "id": "9365f99d-723e-4362-ac5f-6077dc3446aa",
   "metadata": {},
   "source": [
    "# Triple Integral (`tplquad`)\n",
    "\n",
    "For a triple integral in SciPy, you can use the `scipy.integrate.tplquad` function. This function specifically computes a triple integral over a rectangular region in 3D space"
   ]
  },
  {
   "cell_type": "markdown",
   "id": "007309e8-7dfd-4e98-8c65-f1b1ccf07b77",
   "metadata": {},
   "source": [
    "### **Example Usage:**"
   ]
  },
  {
   "cell_type": "code",
   "execution_count": 39,
   "id": "008e7664-6ddd-4304-a169-a1ee71414d19",
   "metadata": {},
   "outputs": [
    {
     "name": "stdout",
     "output_type": "stream",
     "text": [
      "Result of the triple integral: 2.1388888888888893\n",
      "Estimated error: 9.905502173200623e-14\n"
     ]
    }
   ],
   "source": [
    "from scipy import integrate\n",
    "\n",
    "# Define the function to be integrated\n",
    "def func(x, y, z):\n",
    "    return x * y * z\n",
    "\n",
    "# Define the limits for each variable\n",
    "x_lower = 0\n",
    "x_upper = 1\n",
    "\n",
    "# For y, the limits are functions of x\n",
    "def y_lower(x):\n",
    "    return 0\n",
    "\n",
    "def y_upper(x):\n",
    "    return 2\n",
    "\n",
    "# For z, the limits are functions of x and y\n",
    "def z_lower(x, y):\n",
    "    return 0\n",
    "\n",
    "def z_upper(x, y):\n",
    "    return x + y\n",
    "\n",
    "# Perform the triple integral\n",
    "result, error = integrate.tplquad(func, x_lower, x_upper, y_lower, y_upper, z_lower, z_upper)\n",
    "\n",
    "print(\"Result of the triple integral:\", result)\n",
    "print(\"Estimated error:\", error)\n"
   ]
  },
  {
   "cell_type": "markdown",
   "id": "8f0c682e-a624-4000-b7f4-0afdabb59cce",
   "metadata": {},
   "source": [
    "# Integration with Infinite Limits\n",
    "\n",
    "When integrating a function with infinite limits, it implies integrating over an interval that extends to positive or negative infinity. Integrating over infinite limits often arises in mathematical modeling and real-world problems where the system under consideration extends indefinitely in one or both directions.\n",
    "\n",
    "\n",
    "For instance, the Gaussian function $f(x)= e^{-x^2}$ is often integrated over the entire real line from negative to positive infinity.\n",
    "\n",
    "However, numerical integration techniques inherently work with finite intervals. Therefore, to compute the integral over infinite limits using numerical methods, we approximate the integral over a finite interval and then take a limit as the interval becomes infinitely large.\n",
    "\n",
    "SciPy's `quad` function allows us to perform this type of integration. It utilizes adaptive quadrature techniques from the Fortran library QUADPACK to compute definite integrals, including those with infinite limits.\n",
    "\n",
    "When dealing with integration over infinite limits, SciPy's `quad` function can handle it. You need to pass `numpy.inf` or `-numpy.inf` as the limits of integration."
   ]
  },
  {
   "cell_type": "code",
   "execution_count": 40,
   "id": "6afc97dd-9aad-4a8e-b2f5-5306e7c75ef0",
   "metadata": {},
   "outputs": [
    {
     "name": "stdout",
     "output_type": "stream",
     "text": [
      "Result: 1.7724538509055159\n",
      "Error: 1.4202636780944923e-08\n"
     ]
    }
   ],
   "source": [
    "from scipy.integrate import quad\n",
    "import numpy as np\n",
    "\n",
    "# Define the function to integrate\n",
    "def integrand(x):\n",
    "    return np.exp(-x**2)\n",
    "\n",
    "# Integrate the function from -infinity to infinity\n",
    "result, error = quad(integrand, -np.inf, np.inf)\n",
    "\n",
    "print(\"Result:\", result)\n",
    "print(\"Error:\", error)\n"
   ]
  },
  {
   "cell_type": "markdown",
   "id": "62d8994d-a3f4-4052-a491-3ae7eb976e14",
   "metadata": {},
   "source": [
    "# Special functions integration "
   ]
  },
  {
   "cell_type": "code",
   "execution_count": 42,
   "id": "772dd88d-e0de-4421-80a3-27de3b7fac07",
   "metadata": {},
   "outputs": [
    {
     "name": "stdout",
     "output_type": "stream",
     "text": [
      "Result: 1.0670113039567362\n",
      "Error: 7.434789460651883e-14\n"
     ]
    }
   ],
   "source": [
    "from scipy.integrate import quad\n",
    "from scipy.special import jn  # Bessel function of the first kind\n",
    "\n",
    "# Define the function involving a special function\n",
    "def integrand(x):\n",
    "    return jn(0, x)  # Bessel function of the first kind of order 0\n",
    "\n",
    "# Integrate the function over a finite interval\n",
    "result, error = quad(integrand, 0, 10)\n",
    "\n",
    "print(\"Result:\", result)\n",
    "print(\"Error:\", error)\n"
   ]
  },
  {
   "cell_type": "code",
   "execution_count": 43,
   "id": "8ac4cd99-59b7-478a-b6d7-ae23ef051a1e",
   "metadata": {},
   "outputs": [
    {
     "name": "stdout",
     "output_type": "stream",
     "text": [
      "Result: 6.938893903907228e-17\n",
      "Error: 8.510031747616817e-15\n"
     ]
    }
   ],
   "source": [
    "from scipy.integrate import quad\n",
    "from scipy.special import legendre\n",
    "\n",
    "# Define the function involving Legendre polynomials\n",
    "def integrand(x):\n",
    "    return legendre(2)(x)  # Legendre polynomial of degree 2\n",
    "\n",
    "# Integrate the function over a finite interval\n",
    "result, error = quad(integrand, -1, 1)\n",
    "\n",
    "print(\"Result:\", result)\n",
    "print(\"Error:\", error)\n"
   ]
  },
  {
   "cell_type": "markdown",
   "id": "57c007c9-786e-4dc5-937d-0c36a1d763ad",
   "metadata": {},
   "source": [
    "## Extra Examples"
   ]
  },
  {
   "cell_type": "markdown",
   "id": "3144cc86-92c9-47ee-aece-9daf72080492",
   "metadata": {},
   "source": [
    "**Exponential Function:**"
   ]
  },
  {
   "cell_type": "code",
   "execution_count": 44,
   "id": "e111843d-3f85-4d78-bcc7-f48e99724c58",
   "metadata": {},
   "outputs": [
    {
     "name": "stdout",
     "output_type": "stream",
     "text": [
      "Result: 0.6321205588285578\n",
      "Error: 7.017947987503856e-15\n"
     ]
    }
   ],
   "source": [
    "from scipy.integrate import quad\n",
    "import numpy as np\n",
    "\n",
    "# Define the integrand function\n",
    "def integrand(x):\n",
    "    return np.exp(-x)\n",
    "\n",
    "# Integrate the function over the interval [0, 1]\n",
    "result, error = quad(integrand, 0, 1)\n",
    "\n",
    "print(\"Result:\", result)\n",
    "print(\"Error:\", error)\n"
   ]
  },
  {
   "cell_type": "markdown",
   "id": "74ede2f4-ba2a-4e95-9fb1-c9ac19ee65b3",
   "metadata": {},
   "source": [
    "**Sine Function:**"
   ]
  },
  {
   "cell_type": "code",
   "execution_count": 45,
   "id": "c536544c-11a4-445c-a703-579d738fd647",
   "metadata": {},
   "outputs": [
    {
     "name": "stdout",
     "output_type": "stream",
     "text": [
      "Result: 2.0\n",
      "Error: 2.220446049250313e-14\n"
     ]
    }
   ],
   "source": [
    "from scipy.integrate import quad\n",
    "import numpy as np\n",
    "\n",
    "# Define the integrand function\n",
    "def integrand(x):\n",
    "    return np.sin(x)\n",
    "\n",
    "# Integrate the function over the interval [0, pi]\n",
    "result, error = quad(integrand, 0, np.pi)\n",
    "\n",
    "print(\"Result:\", result)\n",
    "print(\"Error:\", error)\n"
   ]
  },
  {
   "cell_type": "markdown",
   "id": "d22cecc0-2e25-4b28-8c0e-19f7e1420980",
   "metadata": {},
   "source": [
    "**Polynomial Function:**"
   ]
  },
  {
   "cell_type": "code",
   "execution_count": 46,
   "id": "6269cbe1-e080-442e-95c0-2c8a42756d66",
   "metadata": {},
   "outputs": [
    {
     "name": "stdout",
     "output_type": "stream",
     "text": [
      "Result: 4.0\n",
      "Error: 4.440892098500626e-14\n"
     ]
    }
   ],
   "source": [
    "from scipy.integrate import quad\n",
    "\n",
    "# Define the integrand function\n",
    "def integrand(x):\n",
    "    return 3*x**2 + 2*x + 1\n",
    "\n",
    "# Integrate the function over the interval [-1, 1]\n",
    "result, error = quad(integrand, -1, 1)\n",
    "\n",
    "print(\"Result:\", result)\n",
    "print(\"Error:\", error)\n"
   ]
  },
  {
   "cell_type": "markdown",
   "id": "7cf4c03d-eb0e-4c23-824b-3d9238cc9f4d",
   "metadata": {},
   "source": [
    "**Gaussian Function:**\n"
   ]
  },
  {
   "cell_type": "code",
   "execution_count": 47,
   "id": "21902494-e55d-400f-bcd3-a0f4d2b93dd8",
   "metadata": {},
   "outputs": [
    {
     "name": "stdout",
     "output_type": "stream",
     "text": [
      "Result: 1.7724538509055159\n",
      "Error: 1.4202636780944923e-08\n"
     ]
    }
   ],
   "source": [
    "from scipy.integrate import quad\n",
    "import numpy as np\n",
    "\n",
    "# Define the integrand function\n",
    "def integrand(x):\n",
    "    return np.exp(-x**2)\n",
    "\n",
    "# Integrate the function over the entire real line\n",
    "result, error = quad(integrand, -np.inf, np.inf)\n",
    "\n",
    "print(\"Result:\", result)\n",
    "print(\"Error:\", error)\n"
   ]
  },
  {
   "cell_type": "markdown",
   "id": "af109eed-4e79-49c3-9424-3c05d5f7cd3d",
   "metadata": {},
   "source": [
    "**Exponential Function:**"
   ]
  },
  {
   "cell_type": "code",
   "execution_count": 48,
   "id": "cc132dbe-ae6e-4af9-9051-f549b9fdd394",
   "metadata": {},
   "outputs": [
    {
     "name": "stdout",
     "output_type": "stream",
     "text": [
      "Result: 0.7965995992970532\n",
      "Error: 1.1090185172125453e-14\n"
     ]
    }
   ],
   "source": [
    "from scipy.integrate import dblquad\n",
    "import numpy as np\n",
    "\n",
    "# Define the integrand function of two variables\n",
    "def integrand(x, y):\n",
    "    return np.exp(-x*y)\n",
    "\n",
    "# Define the limits for each variable\n",
    "x_lower = 0\n",
    "x_upper = 1\n",
    "y_lower = 0\n",
    "y_upper = 1\n",
    "\n",
    "# Integrate the function over the rectangle defined by the limits\n",
    "result, error = dblquad(integrand, x_lower, x_upper, y_lower, y_upper)\n",
    "\n",
    "print(\"Result:\", result)\n",
    "print(\"Error:\", error)\n"
   ]
  },
  {
   "cell_type": "markdown",
   "id": "1754a860-bb51-4c16-a127-d487f5edd0d2",
   "metadata": {},
   "source": [
    "**Polynomial Function:**"
   ]
  },
  {
   "cell_type": "code",
   "execution_count": 49,
   "id": "97d42a74-8643-43b8-b275-ec432c362d08",
   "metadata": {},
   "outputs": [
    {
     "name": "stdout",
     "output_type": "stream",
     "text": [
      "Result: 0.16666666666666666\n",
      "Error: 3.6767403711787844e-15\n"
     ]
    }
   ],
   "source": [
    "from scipy.integrate import dblquad\n",
    "\n",
    "# Define the integrand function of two variables\n",
    "def integrand(x, y):\n",
    "    return x**2 + y**2\n",
    "\n",
    "# Define the limits for each variable\n",
    "x_lower = 0\n",
    "x_upper = 1\n",
    "y_lower = lambda x: 0\n",
    "y_upper = lambda x: 1 - x\n",
    "\n",
    "# Integrate the function over the triangle defined by the limits\n",
    "result, error = dblquad(integrand, x_lower, x_upper, y_lower, y_upper)\n",
    "\n",
    "print(\"Result:\", result)\n",
    "print(\"Error:\", error)\n"
   ]
  },
  {
   "cell_type": "markdown",
   "id": "dff50e65-7be6-4762-80ba-00e3762701e3",
   "metadata": {},
   "source": [
    "**Sin Function:**"
   ]
  },
  {
   "cell_type": "code",
   "execution_count": 50,
   "id": "a41e3dad-6f68-440a-916f-343de6aac67f",
   "metadata": {},
   "outputs": [
    {
     "name": "stdout",
     "output_type": "stream",
     "text": [
      "Result: 2.3668674696469303\n",
      "Error: 2.627750761038306e-14\n"
     ]
    }
   ],
   "source": [
    "from scipy.integrate import dblquad\n",
    "import numpy as np\n",
    "\n",
    "# Define the integrand function of two variables\n",
    "def integrand(x, y):\n",
    "    return np.sin(x*y)\n",
    "\n",
    "# Define the limits for each variable\n",
    "x_lower = 0\n",
    "x_upper = np.pi\n",
    "y_lower = 0\n",
    "y_upper = np.pi/2\n",
    "\n",
    "# Integrate the function over the rectangle defined by the limits\n",
    "result, error = dblquad(integrand, x_lower, x_upper, y_lower, y_upper)\n",
    "\n",
    "print(\"Result:\", result)\n",
    "print(\"Error:\", error)\n"
   ]
  },
  {
   "cell_type": "markdown",
   "id": "5e7c22b3-3577-4b3b-9809-5846705b5295",
   "metadata": {},
   "source": [
    "**Gaussian Function :**"
   ]
  },
  {
   "cell_type": "code",
   "execution_count": 51,
   "id": "c7f6319f-1f9d-4469-8cf6-00a9ebab8a1b",
   "metadata": {},
   "outputs": [
    {
     "name": "stdout",
     "output_type": "stream",
     "text": [
      "Result: 1.9858653037988712\n",
      "Error: 2.204753384081738e-14\n"
     ]
    }
   ],
   "source": [
    "from scipy.integrate import dblquad\n",
    "import numpy as np\n",
    "\n",
    "# Define the integrand function of two variables\n",
    "def integrand(r, theta):\n",
    "    return np.exp(-r**2) * r\n",
    "\n",
    "# Define the limits for each variable\n",
    "r_lower = 0\n",
    "r_upper = 1\n",
    "theta_lower = 0\n",
    "theta_upper = 2*np.pi\n",
    "\n",
    "# Integrate the function over the circle defined by the limits\n",
    "result, error = dblquad(integrand, theta_lower, theta_upper, r_lower, r_upper)\n",
    "\n",
    "print(\"Result:\", result)\n",
    "print(\"Error:\", error)\n"
   ]
  },
  {
   "cell_type": "markdown",
   "id": "4c1189a1-455d-495a-9f0a-d5d756a94b9f",
   "metadata": {},
   "source": [
    "**Exponential Function over a Cuboid:**"
   ]
  },
  {
   "cell_type": "code",
   "execution_count": 52,
   "id": "bfd0da05-aba1-447e-89cb-03b41c92e81d",
   "metadata": {},
   "outputs": [
    {
     "name": "stdout",
     "output_type": "stream",
     "text": [
      "Result: 0.8912127981113023\n",
      "Error: 1.1102204072461565e-14\n"
     ]
    }
   ],
   "source": [
    "from scipy.integrate import tplquad\n",
    "import numpy as np\n",
    "\n",
    "# Define the integrand function of three variables\n",
    "def integrand(x, y, z):\n",
    "    return np.exp(-x*y*z)\n",
    "\n",
    "# Define the limits for each variable\n",
    "x_lower = 0\n",
    "x_upper = 1\n",
    "y_lower = 0\n",
    "y_upper = 1\n",
    "z_lower = 0\n",
    "z_upper = 1\n",
    "\n",
    "# Integrate the function over the cuboid defined by the limits\n",
    "result, error = tplquad(integrand, x_lower, x_upper, y_lower, y_upper, z_lower, z_upper)\n",
    "\n",
    "print(\"Result:\", result)\n",
    "print(\"Error:\", error)\n"
   ]
  },
  {
   "cell_type": "markdown",
   "id": "922f5ad2-0de4-4023-960c-2083f8ac9d35",
   "metadata": {},
   "source": [
    "**Polynomial Function :**"
   ]
  },
  {
   "cell_type": "code",
   "execution_count": 54,
   "id": "efd478e0-86d6-4caf-b594-c437f83df762",
   "metadata": {},
   "outputs": [
    {
     "name": "stdout",
     "output_type": "stream",
     "text": [
      "Result: 4.18879020478639\n",
      "Error: 4.650491330678174e-14\n"
     ]
    }
   ],
   "source": [
    "from scipy.integrate import tplquad\n",
    "import numpy as np\n",
    "\n",
    "# Define the integrand function of three variables\n",
    "def integrand(r, theta, phi):\n",
    "    return r**2 * np.sin(theta)\n",
    "\n",
    "# Define the limits for each variable\n",
    "r_lower = 0\n",
    "r_upper = 1\n",
    "theta_lower = 0\n",
    "theta_upper = np.pi\n",
    "phi_lower = 0\n",
    "phi_upper = 2*np.pi\n",
    "\n",
    "# Integrate the function over the sphere defined by the limits\n",
    "result, error = tplquad(integrand, phi_lower, phi_upper, theta_lower, theta_upper, r_lower, r_upper)\n",
    "\n",
    "print(\"Result:\", result)\n",
    "print(\"Error:\", error)\n"
   ]
  },
  {
   "cell_type": "markdown",
   "id": "38f61712-803a-4d1d-a581-6e5735c281c9",
   "metadata": {},
   "source": [
    "**Gaussian Function :**"
   ]
  },
  {
   "cell_type": "code",
   "execution_count": 55,
   "id": "7e62d4c4-4196-4c5f-9880-5427f98afade",
   "metadata": {},
   "outputs": [
    {
     "name": "stdout",
     "output_type": "stream",
     "text": [
      "Result: 3.9717306075977423\n",
      "Error: 4.409506768163476e-14\n"
     ]
    }
   ],
   "source": [
    "from scipy.integrate import tplquad\n",
    "import numpy as np\n",
    "\n",
    "# Define the integrand function of three variables\n",
    "def integrand(r, theta, z):\n",
    "    return np.exp(-r**2) * r\n",
    "\n",
    "# Define the limits for each variable\n",
    "r_lower = 0\n",
    "r_upper = 1\n",
    "theta_lower = 0\n",
    "theta_upper = 2*np.pi\n",
    "z_lower = 0\n",
    "z_upper = 2\n",
    "\n",
    "# Integrate the function over the cylinder defined by the limits\n",
    "result, error = tplquad(integrand, z_lower, z_upper, theta_lower, theta_upper, r_lower, r_upper)\n",
    "\n",
    "print(\"Result:\", result)\n",
    "print(\"Error:\", error)\n"
   ]
  },
  {
   "cell_type": "markdown",
   "id": "6e2596ce-072c-4ab4-9d65-e27e47599194",
   "metadata": {},
   "source": [
    "# **Exercise** : "
   ]
  },
  {
   "cell_type": "markdown",
   "id": "252406e7-4f55-4b40-bf82-984ec86bb1cb",
   "metadata": {},
   "source": [
    " #### Ex.1 Compute $\\int_0^\\pi \\int_0^{\\sin \\theta} \\int_0^{r \\sin \\theta} r \\cos ^2 \\theta d z d r d \\theta$. \n",
    "\n",
    "\n",
    "#### Ex.2 Compute $\\int_0^1 \\int_0^{y^2} \\int_0^{x+y} x d z d x d y$. \n",
    "\n",
    "\n",
    "#### Ex.3 Compute $\\int_1^2 \\int_y^{y^2} \\int_0^{\\ln (y+z)} e^x d x d z d y$. \n",
    "\n",
    "\n",
    "#### Ex.4 Compute $\\int_0^\\pi \\int_0^{\\pi / 2} \\int_0^1 z \\sin x+z \\cos y d z dyd x$. "
   ]
  },
  {
   "cell_type": "markdown",
   "id": "47d19f25-e3c4-4fc4-b3a1-9fec74d78bd8",
   "metadata": {},
   "source": [
    " #### Ex.1 Compute $\\int_0^\\pi \\int_0^{\\sin \\theta} \\int_0^{r \\sin \\theta} r \\cos ^2 \\theta d z d r d \\theta$. "
   ]
  },
  {
   "cell_type": "code",
   "execution_count": 60,
   "id": "2a443b11-4b71-436b-bc49-ddca13d10926",
   "metadata": {},
   "outputs": [
    {
     "name": "stdout",
     "output_type": "stream",
     "text": [
      "Result: 0.131835123698565\n",
      "Error: 1.5766701455740292e-14\n"
     ]
    }
   ],
   "source": [
    "#Ex.1\n",
    "\n",
    "from scipy.integrate import tplquad\n",
    "import numpy as np\n",
    "\n",
    "# Define the integrand function of three variables\n",
    "def integrand(z, r, theta):\n",
    "    return r * np.cos(theta)**2\n",
    "\n",
    "# Define the limits for each variable\n",
    "theta_lower = 0\n",
    "theta_upper = np.pi\n",
    "\n",
    "def r_lower(theta):\n",
    "    return 0\n",
    "def r_upper(theta):\n",
    "    return np.sin(theta)\n",
    "\n",
    "def z_lower(r, theta):\n",
    "    return 0\n",
    "def z_upper(r, theta):\n",
    "    return r * np.sin(theta)\n",
    "\n",
    "# Integrate the function over the specified region\n",
    "result, error = tplquad(integrand, theta_lower, theta_upper, r_lower, r_upper, z_lower, z_upper)\n",
    "\n",
    "print(\"Result:\", result)\n",
    "print(\"Error:\", error)\n"
   ]
  },
  {
   "cell_type": "markdown",
   "id": "cf107d1d-a90e-405c-8c64-3226163c189d",
   "metadata": {},
   "source": [
    "#### Ex.2 Compute $\\int_0^1 \\int_0^{y^2} \\int_0^{x+y} x d z d x d y$. "
   ]
  },
  {
   "cell_type": "code",
   "execution_count": 1,
   "id": "11a94b07-1c55-4c36-bb07-1cb7791c3800",
   "metadata": {},
   "outputs": [
    {
     "name": "stdout",
     "output_type": "stream",
     "text": [
      "Result: 0.130952380952381\n",
      "Error: 2.1964481189261375e-14\n"
     ]
    }
   ],
   "source": [
    "#Ex.2\n",
    "\n",
    "from scipy.integrate import tplquad\n",
    "\n",
    "# Define the integrand function of three variables\n",
    "def integrand(z, x, y):\n",
    "    return x\n",
    "\n",
    "# Define the limits for each variable\n",
    "y_lower = 0\n",
    "y_upper = 1\n",
    "\n",
    "def x_lower(y):\n",
    "    return 0\n",
    "def x_upper(y):\n",
    "    return y**2\n",
    "\n",
    "def z_lower(x, y):\n",
    "    return 0\n",
    "def z_upper(x, y):\n",
    "    return x + y\n",
    "\n",
    "# Integrate the function over the specified region\n",
    "result, error = tplquad(integrand, y_lower, y_upper, x_lower, x_upper, z_lower, z_upper)\n",
    "\n",
    "print(\"Result:\", result)\n",
    "print(\"Error:\", error)\n"
   ]
  },
  {
   "cell_type": "markdown",
   "id": "cc6fc45a-730f-479f-8e7f-8e1ef67f476c",
   "metadata": {},
   "source": [
    "#### Ex.3 Compute $\\int_1^2 \\int_y^{y^2} \\int_0^{\\ln (y+z)} e^x d x d z d y$. "
   ]
  },
  {
   "cell_type": "code",
   "execution_count": 2,
   "id": "702b931f-4654-4dad-a64d-755ba992ef44",
   "metadata": {},
   "outputs": [
    {
     "name": "stdout",
     "output_type": "stream",
     "text": [
      "Result: 2.5166666666666666\n",
      "Error: 8.83606086184683e-14\n"
     ]
    }
   ],
   "source": [
    "#Ex.3\n",
    "\n",
    "from scipy.integrate import tplquad\n",
    "import numpy as np\n",
    "\n",
    "# Define the integrand function of three variables\n",
    "def integrand(x, z, y):\n",
    "    return np.exp(x)\n",
    "\n",
    "# Define the limits for each variable\n",
    "y_lower = 1\n",
    "y_upper = 2\n",
    "\n",
    "def z_lower(y):\n",
    "    return y\n",
    "def z_upper(y):\n",
    "    return y**2\n",
    "\n",
    "def x_lower(y, z):\n",
    "    return 0\n",
    "def x_upper(y, z):\n",
    "    return np.log(y + z)\n",
    "\n",
    "# Integrate the function over the specified region\n",
    "result, error = tplquad(integrand, y_lower, y_upper, z_lower, z_upper, x_lower, x_upper)\n",
    "\n",
    "print(\"Result:\", result)\n",
    "print(\"Error:\", error)\n"
   ]
  },
  {
   "cell_type": "markdown",
   "id": "8591184c-f58e-4155-9b09-914ee33b60b4",
   "metadata": {},
   "source": [
    "#### Ex.4 Compute $\\int_0^\\pi \\int_0^{\\pi / 2} \\int_0^1 z \\sin x+z \\cos y d z dyd x$. "
   ]
  },
  {
   "cell_type": "code",
   "execution_count": 58,
   "id": "9eb92696-f04c-464c-9f41-9dfc3cdb38ae",
   "metadata": {},
   "outputs": [
    {
     "name": "stdout",
     "output_type": "stream",
     "text": [
      "Result: 8.498180673931754\n",
      "Error: 9.434875851623563e-14\n"
     ]
    }
   ],
   "source": [
    "#Ex.4\n",
    "\n",
    "from scipy.integrate import tplquad\n",
    "import numpy as np\n",
    "\n",
    "# Define the integrand function of three variables \n",
    "def integrand(x, y, z):\n",
    "    return z * (np.sin(x) + np.cos(y))\n",
    "\n",
    "# Define the limits for each variable\n",
    "x_lower = 0\n",
    "x_upper = np.pi\n",
    "y_lower = 0\n",
    "y_upper = np.pi / 2\n",
    "z_lower = lambda x, y: 0\n",
    "z_upper = lambda x, y: 1\n",
    "\n",
    "# Integrate the function over the specified region\n",
    "result, error = tplquad(integrand, x_lower, x_upper, y_lower, y_upper, z_lower, z_upper)\n",
    "\n",
    "print(\"Result:\", result)\n",
    "print(\"Error:\", error)\n"
   ]
  }
 ],
 "metadata": {
  "kernelspec": {
   "display_name": "Python 3 (ipykernel)",
   "language": "python",
   "name": "python3"
  },
  "language_info": {
   "codemirror_mode": {
    "name": "ipython",
    "version": 3
   },
   "file_extension": ".py",
   "mimetype": "text/x-python",
   "name": "python",
   "nbconvert_exporter": "python",
   "pygments_lexer": "ipython3",
   "version": "3.11.7"
  }
 },
 "nbformat": 4,
 "nbformat_minor": 5
}
