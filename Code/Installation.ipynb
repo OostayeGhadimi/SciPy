{
 "cells": [
  {
   "cell_type": "markdown",
   "id": "d65be069-94b2-4a71-8958-528f2658d55e",
   "metadata": {},
   "source": [
    "# Installation\n",
    "\n",
    "Installations methods include: \n",
    "\n",
    "- Distributed\n",
    "- pip\n",
    "- conda\n",
    "- Package Manager\n",
    "\n",
    "Methods differ in ease of use, coverage, maintenance of old versions, system-wide versus local environment use, and control. With pip or Anaconda's conda, you can control the package versions for a specific project to prevent conflicts. Conda also controls non-Python packages, like MKL or HDF5. System package managers, like `apt-get`, install across the entire computer, often have older versions, and don't have as many available versions. Source compilation is much more difficult but is necessary for debugging and development. If you don't know which installation method you need or prefer, we recommend the Scientific Python Distribution [Anaconda](https://www.anaconda.com/download/).\n"
   ]
  },
  {
   "cell_type": "markdown",
   "id": "6325dcf8-3400-40c0-970e-25ce4642158a",
   "metadata": {},
   "source": [
    "# Scientific Python Distributions (recommended)\n",
    "Python distributions provide the language itself, along with the most commonly used packages and tools. These downloadable files require little configuration, work on almost all setups, and provide all the commonly used scientific Python tools.\n",
    "\n",
    "[Anaconda](https://www.anaconda.com/download/). works on Windows, Mac, and Linux, provides over 1,500 Python packages, and is used by over 15 million people. Anaconda is best suited to beginning users; it provides a large collection of libraries all in one."
   ]
  },
  {
   "cell_type": "markdown",
   "id": "776c55dc-bdda-4a0e-9f8f-e1a16e54b6c9",
   "metadata": {},
   "source": [
    "# Installing with Pip\n",
    "You can install SciPy from PyPI with `pip`:"
   ]
  },
  {
   "cell_type": "raw",
   "id": "75f5afc6-003d-46bd-a60e-2c9173063cd3",
   "metadata": {},
   "source": [
    " python -m pip install <pkg_name>"
   ]
  },
  {
   "cell_type": "markdown",
   "id": "ec7bab6c-b9cd-4dac-ae87-b1c3d2f72386",
   "metadata": {},
   "source": [
    "# Installing via Conda \n",
    "You can install `<pkg_name>` from the `defaults` or `conda-forge` channels with `conda`:"
   ]
  },
  {
   "cell_type": "raw",
   "id": "0b2aa17a-8f17-4a93-8a9e-afc46849f2b0",
   "metadata": {},
   "source": [
    " conda install <pkg_name>"
   ]
  },
  {
   "cell_type": "markdown",
   "id": "e1403b52-49e0-48eb-b86c-39f7e1a7fe4b",
   "metadata": {},
   "source": [
    "# Install system-wide via a package manager\n",
    "System package managers can install the most common Python packages. They install packages for the entire computer, often use older versions, and don’t have as many available versions."
   ]
  },
  {
   "cell_type": "markdown",
   "id": "b085f908-ec98-46e8-afdf-7727e2bc8fae",
   "metadata": {},
   "source": [
    "# Ubuntu and Debian\n",
    "Using `apt-get`:"
   ]
  },
  {
   "cell_type": "raw",
   "id": "557d6b10-ef16-466e-b841-c9a54636c534",
   "metadata": {},
   "source": [
    " sudo apt-get install python3-<pkg_name>"
   ]
  },
  {
   "cell_type": "markdown",
   "id": "e2b50f7b-8e57-480c-8fd7-84acfca96c9f",
   "metadata": {},
   "source": [
    "# macOS\n",
    "macOS doesn’t have a preinstalled package manager, but you can install Homebrew and use it to install SciPy (and Python itself):"
   ]
  },
  {
   "cell_type": "raw",
   "id": "67697910-153a-4ad7-be8b-4b7a6cc19f23",
   "metadata": {},
   "source": [
    " brew install <pkg_name>"
   ]
  }
 ],
 "metadata": {
  "kernelspec": {
   "display_name": "Python 3 (ipykernel)",
   "language": "python",
   "name": "python3"
  },
  "language_info": {
   "codemirror_mode": {
    "name": "ipython",
    "version": 3
   },
   "file_extension": ".py",
   "mimetype": "text/x-python",
   "name": "python",
   "nbconvert_exporter": "python",
   "pygments_lexer": "ipython3",
   "version": "3.10.9"
  }
 },
 "nbformat": 4,
 "nbformat_minor": 5
}
